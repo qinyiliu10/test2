{
  "cells": [
    {
      "cell_type": "code",
      "execution_count": null,
      "metadata": {
        "id": "WOSNHGmWd4W3"
      },
      "outputs": [],
      "source": [
        "import os\n",
        "import subprocess\n",
        "try:\n",
        "    import git\n",
        "    from utils import *\n",
        "except:\n",
        "    pass\n",
        "import otter\n",
        "grader = otter.Notebook()"
      ]
    },
    {
      "cell_type": "markdown",
      "metadata": {
        "id": "DFn-oN29d4W7"
      },
      "source": [
        "# <mark style=\"background: #008030; color: #ffffff;\" >B</mark> Week 2: Practice Git & GitHub\n",
        "\n",
        "------\n",
        "\n",
        "### Instructions:\n",
        "\n",
        "- Complete 50 points worth of questions to pass the assessment\n",
        "  - You can attempt any number of questions and in any order provided you pass at least 50 points.\n",
        "- These questions should be attempted in a Unix Shell\n",
        "- Once you've tested your answer in the shell, write/paste it in the space provided.\n",
        "  - Write your answer between the pair of `'''`.\n",
        "  - Do not remove the `'''` or other provided markings from the answer spaces.\n",
        "  - Do not make any changes to this notebook outside of the answer spaces provided.\n",
        "  \n",
        "#### Submitting\n",
        "\n",
        "- Reset your outputs before submitting\n",
        "  - Select the `Kernel` menu, then either `Restart & Run Clear Output` or `Restart & Run All`\n",
        "  - Don't forget to save your notebook after this step\n",
        "- Submit your .ipynb file to Gradescope using Git & GitHub\n",
        "- You can submit as many times as needed\n",
        "- When reviewing results, ignore any results listed under \"Public Tests\"  \n",
        "  (There are no \"Public Tests\" in this assignment)\n",
        "\n",
        "For more information, see the assessment page."
      ]
    },
    {
      "cell_type": "markdown",
      "metadata": {
        "id": "6e4gaudCd4W9"
      },
      "source": [
        "#### Question 01 &nbsp;&nbsp;&nbsp;&nbsp;&nbsp;&nbsp;(4 Points)\n",
        "Submit your work.\n",
        "\n",
        "Normal file upload has been switched off for this assessment; you'll need to submit via GitHub.\n",
        "\n",
        "1. Create a GitHub account if you haven't already.\n",
        "1. Create a new (private) repository for this assignment.\n",
        "1. Clone the repository.\n",
        "1. Add and commit this notebook, then push your changes.\n",
        "1. Submit your repository via Gradescope."
      ]
    },
    {
      "cell_type": "code",
      "execution_count": null,
      "metadata": {
        "tags": [],
        "id": "K_FPhflcd4W9"
      },
      "outputs": [],
      "source": [
        "# LEAVE THIS SPACE BLANK"
      ]
    },
    {
      "cell_type": "markdown",
      "metadata": {
        "id": "VxdFxTwNd4W-"
      },
      "source": [
        "#### Question 02 &nbsp;&nbsp;&nbsp;&nbsp;&nbsp;&nbsp;(2 Points) \n",
        "Write Git & Shell commands to:\n",
        "1. Initialise a new repository in the current working directory"
      ]
    },
    {
      "cell_type": "code",
      "execution_count": null,
      "metadata": {
        "tags": [],
        "id": "4Buy81S-d4W-"
      },
      "outputs": [],
      "source": [
        "answer02 = '''\n",
        "git init\n",
        "'''"
      ]
    },
    {
      "cell_type": "markdown",
      "metadata": {
        "id": "-jEHMXIJd4W_"
      },
      "source": [
        "#### Question 03 &nbsp;&nbsp;&nbsp;&nbsp;&nbsp;&nbsp;(2 Points) \n",
        "Write Git & Shell commands to:\n",
        "1. Create a new text file named `file1.txt`, and stage that file."
      ]
    },
    {
      "cell_type": "code",
      "execution_count": null,
      "metadata": {
        "tags": [],
        "id": "oZfxLaZ3d4XA"
      },
      "outputs": [],
      "source": [
        "answer03 = '''\n",
        "touch file1.txt\n",
        "git add file1.txt\n",
        "'''"
      ]
    },
    {
      "cell_type": "markdown",
      "metadata": {
        "id": "JxMTS_8Rd4XA"
      },
      "source": [
        "#### Question 04 &nbsp;&nbsp;&nbsp;&nbsp;&nbsp;&nbsp;(2 Points)\n",
        "Write Git & Shell commands to:\n",
        "1. Commit the currenty staged changes."
      ]
    },
    {
      "cell_type": "code",
      "execution_count": null,
      "metadata": {
        "tags": [],
        "id": "YJvBcagHd4XB"
      },
      "outputs": [],
      "source": [
        "answer04 = '''\n",
        "git commit -m \"A message about what's changed in this revision\"\n",
        "'''"
      ]
    },
    {
      "cell_type": "markdown",
      "metadata": {
        "id": "4UHKTkAYd4XB"
      },
      "source": [
        "#### Question 05 &nbsp;&nbsp;&nbsp;&nbsp;&nbsp;&nbsp;(2 Points)\n",
        "Write Git & Shell commands to:\n",
        "1. Create a directory `dir1` containing a file `file2`\n",
        "1. Stage (but not commit) the `dir1` directory with **all** of its contents "
      ]
    },
    {
      "cell_type": "code",
      "execution_count": null,
      "metadata": {
        "tags": [],
        "id": "2p3F5vEFd4XC"
      },
      "outputs": [],
      "source": [
        "answer05 = '''\n",
        "mkdir dir1\n",
        "touch file2\n",
        "git add dir1/\n",
        "\n",
        "'''"
      ]
    },
    {
      "cell_type": "markdown",
      "metadata": {
        "id": "J_4_qQbhd4XC"
      },
      "source": [
        "#### Question 06 &nbsp;&nbsp;&nbsp;&nbsp;&nbsp;&nbsp;(2 Points) \n",
        "Write Git & Shell commands to:\n",
        "1. Stage and commit all modified files in the current repository."
      ]
    },
    {
      "cell_type": "code",
      "execution_count": null,
      "metadata": {
        "tags": [],
        "id": "q-3hvVqsd4XC"
      },
      "outputs": [],
      "source": [
        "answer06 = '''\n",
        "git add -A\n",
        "git commit -m \"A message about what's changed in this revision\"\n",
        "'''"
      ]
    },
    {
      "cell_type": "markdown",
      "metadata": {
        "id": "7rT85Uuid4XD"
      },
      "source": [
        "#### Question 07 &nbsp;&nbsp;&nbsp;&nbsp;&nbsp;&nbsp;(5 Points) \n",
        "Write Git & Shell commands to:\n",
        "1. Add and commit all python files (files ending in `.py`) in the current directory."
      ]
    },
    {
      "cell_type": "code",
      "execution_count": null,
      "metadata": {
        "tags": [],
        "id": "u_9NdVmSd4XD"
      },
      "outputs": [],
      "source": [
        "answer07 = '''\n",
        "git add *.py\n",
        "git commit -m \"A message about what's changed in this revision\"\n",
        "'''"
      ]
    },
    {
      "cell_type": "markdown",
      "metadata": {
        "id": "9lPcNfOBd4XD"
      },
      "source": [
        "#### Question 08 &nbsp;&nbsp;&nbsp;&nbsp;&nbsp;&nbsp;(5 Points) \n",
        "Write Git & Shell commands to:\n",
        "1. Create a directory named `dir2`\n",
        "1. Move all text files (files ending in `.txt`) from the current directory to `dir2`, staging and committing your changes."
      ]
    },
    {
      "cell_type": "code",
      "execution_count": null,
      "metadata": {
        "tags": [],
        "id": "iPC3Cwq0d4XD"
      },
      "outputs": [],
      "source": [
        "answer08 = '''\n",
        "mkdir dir2\n",
        "git mv ~/*.txt dir2\n",
        "git commit -m \"A message about what's changed in this revision\"\n",
        "'''"
      ]
    },
    {
      "cell_type": "markdown",
      "metadata": {
        "id": "UXkEWwLXd4XE"
      },
      "source": [
        "#### Question 09 &nbsp;&nbsp;&nbsp;&nbsp;&nbsp;&nbsp;(5 Points) \n",
        "Write Git & Shell commands to:\n",
        "1. Create a branch named `branch1` in the current repository.\n",
        "1. Switch to that branch.\n",
        "1. Create a new file named `file3` in the new branch.\n",
        "1. Stage and commit `file3` in `branch1`"
      ]
    },
    {
      "cell_type": "code",
      "execution_count": null,
      "metadata": {
        "tags": [],
        "id": "wRmVIfi9d4XE"
      },
      "outputs": [],
      "source": [
        "answer09 = '''\n",
        "\n",
        "# Write your solution here\n",
        "\n",
        "\n",
        "'''"
      ]
    },
    {
      "cell_type": "markdown",
      "metadata": {
        "id": "DxTD5Li8d4XE"
      },
      "source": [
        "#### Question 10 &nbsp;&nbsp;&nbsp;&nbsp;&nbsp;&nbsp;(5 Points)  \n",
        "Write Git & Shell commands to:\n",
        "1. Switch to the `main` branch.\n",
        "1. Merge the branch named `branch1` to the `main` branch.\n"
      ]
    },
    {
      "cell_type": "code",
      "execution_count": null,
      "metadata": {
        "tags": [],
        "id": "7kQHfSu1d4XE"
      },
      "outputs": [],
      "source": [
        "answer10 = '''\n",
        "\n",
        "# Write your solution here\n",
        "\n",
        "\n",
        "'''"
      ]
    },
    {
      "cell_type": "markdown",
      "metadata": {
        "id": "T5vI7PJ6d4XE"
      },
      "source": [
        "#### Question 11 &nbsp;&nbsp;&nbsp;&nbsp;&nbsp;&nbsp;(5 Points)\n",
        "Write Git & Shell commands to:\n",
        "1. Create and switch to a new branch named `branch2`.\n",
        "1. Create, and commit a file `file4`\n",
        "1. Modify `file4`\n",
        "1. Switch back to the `main` branch without committing your changes.\n",
        "\n",
        "***\n",
        "<details>\n",
        "  <summary><span style=\"color:blue\">Click to see Hints</span></summary>\n",
        "    \n",
        "* You will need to stash your changes\n",
        "</details>"
      ]
    },
    {
      "cell_type": "code",
      "execution_count": null,
      "metadata": {
        "tags": [],
        "id": "F_Cs_TnKd4XF"
      },
      "outputs": [],
      "source": [
        "answer11 = '''\n",
        "\n",
        "# Write your solution here\n",
        "\n",
        "\n",
        "'''"
      ]
    },
    {
      "cell_type": "markdown",
      "metadata": {
        "id": "Vjn-5DBGd4XF"
      },
      "source": [
        "#### Question 12 &nbsp;&nbsp;&nbsp;&nbsp;&nbsp;&nbsp;(5 Points)\n",
        "Continuing from the previous question, write Git & Shell commands to:\n",
        "1. Switch  back to `branch2`.\n",
        "1. Restore and commit your uncommitted changes"
      ]
    },
    {
      "cell_type": "code",
      "execution_count": null,
      "metadata": {
        "tags": [],
        "id": "kEKsdCS1d4XF"
      },
      "outputs": [],
      "source": [
        "answer12 = '''\n",
        "\n",
        "# Write your solution here\n",
        "\n",
        "\n",
        "'''"
      ]
    },
    {
      "cell_type": "markdown",
      "metadata": {
        "id": "PTfo6uumd4XF"
      },
      "source": [
        "#### Question 13 &nbsp;&nbsp;&nbsp;&nbsp;&nbsp;&nbsp;(8 Points)\n",
        "Write Git & Shell commands to:\n",
        "1. Clone the GitHub repository used to submit this notebook\n",
        "1. Create a new branch named `branch3`\n",
        "1. Create and commit a file named `file5` in `branch3`\n",
        "1. Push `branch3` to GitHub"
      ]
    },
    {
      "cell_type": "code",
      "execution_count": null,
      "metadata": {
        "tags": [],
        "id": "knrZotUJd4XF"
      },
      "outputs": [],
      "source": [
        "answer13 = '''\n",
        "\n",
        "# Write your solution here\n",
        "\n",
        "\n",
        "'''"
      ]
    },
    {
      "cell_type": "markdown",
      "metadata": {
        "id": "ex1F4Nvud4XF"
      },
      "source": [
        "#### Question 14 &nbsp;&nbsp;&nbsp;&nbsp;&nbsp;&nbsp;(8 Points)\n",
        "Continuing from the previous question, write Git & Shell commands to:\n",
        "1. Retrieve the lastest updates to the `main` branch from the GitHub repository\n",
        "1. Merge these updates into `branch3`\n",
        "1. Push `branch3` to GitHub"
      ]
    },
    {
      "cell_type": "code",
      "execution_count": null,
      "metadata": {
        "tags": [],
        "id": "iCkitvZwd4XF"
      },
      "outputs": [],
      "source": [
        "answer14 = '''\n",
        "\n",
        "# Write your solution here\n",
        "\n",
        "\n",
        "'''"
      ]
    },
    {
      "cell_type": "markdown",
      "metadata": {
        "id": "fFFj7Ye7d4XG"
      },
      "source": [
        "#### Question 15 &nbsp;&nbsp;&nbsp;&nbsp;&nbsp;&nbsp;(8 Points)\n",
        "Perform the following tasks and submit the resulting files:\n",
        "1. Clone the GitHub repository [https://github.com/ian-knight-uofa/git-practice-01.git](https://github.com/ian-knight-uofa/git-practice-01.git)\n",
        "1. Merge `branch1` with `main`\n",
        "1. Resolve any merge conflicts\n",
        "1. Copy any files that you needed to manually resolve merge conflicts for, and add the merged versions of those files to your submission alongside this notebook."
      ]
    },
    {
      "cell_type": "code",
      "execution_count": null,
      "metadata": {
        "tags": [],
        "id": "I8-IEQxtd4XG"
      },
      "outputs": [],
      "source": [
        "# LEAVE THIS SPACE BLANK"
      ]
    },
    {
      "cell_type": "markdown",
      "metadata": {
        "id": "mDoCMScKd4XG"
      },
      "source": [
        "#### Question 16 &nbsp;&nbsp;&nbsp;&nbsp;&nbsp;&nbsp;(8 Points)\n",
        "Perform the following tasks:\n",
        "1. Clone the GitHub repository [https://github.com/ian-knight-uofa/git-practice-02.git](https://github.com/ian-knight-uofa/git-practice-02.git)\n",
        "1. Merge `branch3` with `branch2`\n",
        "1. Resolve any merge conflicts\n",
        "1. Delete `branch3`\n",
        "1. Record the sequence of Git commands used to do so in the space below."
      ]
    },
    {
      "cell_type": "code",
      "execution_count": null,
      "metadata": {
        "tags": [],
        "id": "QIlJjI7ld4XG"
      },
      "outputs": [],
      "source": [
        "answer16 = '''\n",
        "\n",
        "# Write your solution here\n",
        "\n",
        "\n",
        "'''"
      ]
    },
    {
      "cell_type": "markdown",
      "metadata": {
        "id": "J1RsTZfnd4XG"
      },
      "source": [
        "#### Question 17 &nbsp;&nbsp;&nbsp;&nbsp;&nbsp;&nbsp;(12 Points)\n",
        "Perform the following tasks:\n",
        "1. Clone the GitHub repository [https://github.com/ian-knight-uofa/git-practice-03.git](https://github.com/ian-knight-uofa/git-practice-03.git)\n",
        "2. Create the branches `branch1` and `branch2`, then add, move, remove & modify the files to match the configurations shown below:\n",
        "**main**\n",
        "```\n",
        ".\n",
        "├── dir1\n",
        "│   └── dir2\n",
        "│       └── foo\n",
        "├── dir3\n",
        "│   ├── bar\n",
        "│   └── bar_copy\n",
        "├── README.md\n",
        "└── LICENSE\n",
        "```\n",
        "**branch1**\n",
        "```\n",
        ".\n",
        "├── dir1\n",
        "│   └── foo\n",
        "├── dir3\n",
        "│   └── bar\n",
        "├── newfile1\n",
        "├── README.md\n",
        "└── LICENSE\n",
        "```\n",
        "**branch2**\n",
        "```\n",
        ".\n",
        "├── dir1\n",
        "│   ├── dir2\n",
        "│   │   └── foo_modified\n",
        "│   └── dir3\n",
        "│       └── newfile2\n",
        "├── README.md\n",
        "└── LICENSE\n",
        "```\n",
        "3. Record the sequence of Git and Shell commands used to do so in the space below."
      ]
    },
    {
      "cell_type": "code",
      "execution_count": null,
      "metadata": {
        "tags": [],
        "id": "1QcAY7_vd4XG"
      },
      "outputs": [],
      "source": [
        "answer17 = '''\n",
        "\n",
        "# Write your solution here\n",
        "\n",
        "\n",
        "'''"
      ]
    },
    {
      "cell_type": "markdown",
      "metadata": {
        "id": "0pWGHxDUd4XH"
      },
      "source": [
        "#### Question 18 &nbsp;&nbsp;&nbsp;&nbsp;&nbsp;&nbsp;(12 Points)\n",
        "Perform the following tasks:\n",
        "1. Clone the GitHub repository [https://github.com/ian-knight-uofa/git-practice-04.git](https://github.com/ian-knight-uofa/git-practice-04.git)\n",
        "1. Identify all branches\n",
        "1. Merge all branches whose names begin with `ready` to `main`\n",
        "1. Resolve any merge conflicts\n",
        "1. Delete those branches\n",
        "1. Update all branches whose names begin with `update` so that they have the latest changes from `main`.\n",
        "1. Record the sequence of Git and Shell commands used to do these tasks in the space below."
      ]
    },
    {
      "cell_type": "code",
      "execution_count": null,
      "metadata": {
        "tags": [],
        "id": "Xs_oOUOQd4XH"
      },
      "outputs": [],
      "source": [
        "answer18 = '''\n",
        "\n",
        "# Write your solution here\n",
        "\n",
        "\n",
        "'''"
      ]
    }
  ],
  "metadata": {
    "celltoolbar": "Edit Metadata",
    "kernelspec": {
      "display_name": "Python 3 (ipykernel)",
      "language": "python",
      "name": "python3"
    },
    "language_info": {
      "codemirror_mode": {
        "name": "ipython",
        "version": 3
      },
      "file_extension": ".py",
      "mimetype": "text/x-python",
      "name": "python",
      "nbconvert_exporter": "python",
      "pygments_lexer": "ipython3",
      "version": "3.10.2"
    },
    "otter": {
      "tests": {
        "Question 01": {
          "name": "Question 01",
          "points": 4,
          "suites": [
            {
              "cases": [],
              "scored": true,
              "setup": "",
              "teardown": "",
              "type": "doctest"
            }
          ]
        },
        "Question 02": {
          "name": "Question 02",
          "points": 2,
          "suites": [
            {
              "cases": [],
              "scored": true,
              "setup": "",
              "teardown": "",
              "type": "doctest"
            }
          ]
        },
        "Question 03": {
          "name": "Question 03",
          "points": 2,
          "suites": [
            {
              "cases": [],
              "scored": true,
              "setup": "",
              "teardown": "",
              "type": "doctest"
            }
          ]
        },
        "Question 04": {
          "name": "Question 04",
          "points": 2,
          "suites": [
            {
              "cases": [],
              "scored": true,
              "setup": "",
              "teardown": "",
              "type": "doctest"
            }
          ]
        },
        "Question 05": {
          "name": "Question 05",
          "points": 2,
          "suites": [
            {
              "cases": [],
              "scored": true,
              "setup": "",
              "teardown": "",
              "type": "doctest"
            }
          ]
        },
        "Question 06": {
          "name": "Question 06",
          "points": 2,
          "suites": [
            {
              "cases": [],
              "scored": true,
              "setup": "",
              "teardown": "",
              "type": "doctest"
            }
          ]
        },
        "Question 07": {
          "name": "Question 07",
          "points": 5,
          "suites": [
            {
              "cases": [],
              "scored": true,
              "setup": "",
              "teardown": "",
              "type": "doctest"
            }
          ]
        },
        "Question 08": {
          "name": "Question 08",
          "points": 5,
          "suites": [
            {
              "cases": [],
              "scored": true,
              "setup": "",
              "teardown": "",
              "type": "doctest"
            }
          ]
        },
        "Question 09": {
          "name": "Question 09",
          "points": 5,
          "suites": [
            {
              "cases": [],
              "scored": true,
              "setup": "",
              "teardown": "",
              "type": "doctest"
            }
          ]
        },
        "Question 10": {
          "name": "Question 10",
          "points": 5,
          "suites": [
            {
              "cases": [],
              "scored": true,
              "setup": "",
              "teardown": "",
              "type": "doctest"
            }
          ]
        },
        "Question 11": {
          "name": "Question 11",
          "points": 5,
          "suites": [
            {
              "cases": [],
              "scored": true,
              "setup": "",
              "teardown": "",
              "type": "doctest"
            }
          ]
        },
        "Question 12": {
          "name": "Question 12",
          "points": 5,
          "suites": [
            {
              "cases": [],
              "scored": true,
              "setup": "",
              "teardown": "",
              "type": "doctest"
            }
          ]
        },
        "Question 13": {
          "name": "Question 13",
          "points": 8,
          "suites": [
            {
              "cases": [],
              "scored": true,
              "setup": "",
              "teardown": "",
              "type": "doctest"
            }
          ]
        },
        "Question 14": {
          "name": "Question 14",
          "points": 8,
          "suites": [
            {
              "cases": [],
              "scored": true,
              "setup": "",
              "teardown": "",
              "type": "doctest"
            }
          ]
        },
        "Question 15": {
          "name": "Question 15",
          "points": 8,
          "suites": [
            {
              "cases": [],
              "scored": true,
              "setup": "",
              "teardown": "",
              "type": "doctest"
            }
          ]
        },
        "Question 16": {
          "name": "Question 16",
          "points": 8,
          "suites": [
            {
              "cases": [],
              "scored": true,
              "setup": "",
              "teardown": "",
              "type": "doctest"
            }
          ]
        },
        "Question 17": {
          "name": "Question 17",
          "points": 12,
          "suites": [
            {
              "cases": [],
              "scored": true,
              "setup": "",
              "teardown": "",
              "type": "doctest"
            }
          ]
        },
        "Question 18": {
          "name": "Question 18",
          "points": 12,
          "suites": [
            {
              "cases": [],
              "scored": true,
              "setup": "",
              "teardown": "",
              "type": "doctest"
            }
          ]
        }
      }
    },
    "varInspector": {
      "cols": {
        "lenName": 16,
        "lenType": 16,
        "lenVar": 40
      },
      "kernels_config": {
        "python": {
          "delete_cmd_postfix": "",
          "delete_cmd_prefix": "del ",
          "library": "var_list.py",
          "varRefreshCmd": "print(var_dic_list())"
        },
        "r": {
          "delete_cmd_postfix": ") ",
          "delete_cmd_prefix": "rm(",
          "library": "var_list.r",
          "varRefreshCmd": "cat(var_dic_list()) "
        }
      },
      "types_to_exclude": [
        "module",
        "function",
        "builtin_function_or_method",
        "instance",
        "_Feature"
      ],
      "window_display": false
    },
    "colab": {
      "provenance": []
    }
  },
  "nbformat": 4,
  "nbformat_minor": 0
}