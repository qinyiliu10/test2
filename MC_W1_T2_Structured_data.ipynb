{
  "cells": [
    {
      "cell_type": "code",
      "execution_count": 1,
      "metadata": {
        "colab": {
          "base_uri": "https://localhost:8080/",
          "height": 365
        },
        "id": "8Fok4ArrSy5b",
        "outputId": "a94311f1-3005-46bb-d4a1-f5fc76fe1ba0"
      },
      "outputs": [
        {
          "output_type": "error",
          "ename": "ModuleNotFoundError",
          "evalue": "ignored",
          "traceback": [
            "\u001b[0;31m---------------------------------------------------------------------------\u001b[0m",
            "\u001b[0;31mModuleNotFoundError\u001b[0m                       Traceback (most recent call last)",
            "\u001b[0;32m<ipython-input-1-139dfdcfee52>\u001b[0m in \u001b[0;36m<module>\u001b[0;34m\u001b[0m\n\u001b[1;32m      4\u001b[0m \u001b[0;32mimport\u001b[0m \u001b[0mrequests\u001b[0m\u001b[0;34m\u001b[0m\u001b[0;34m\u001b[0m\u001b[0m\n\u001b[1;32m      5\u001b[0m \u001b[0;34m\u001b[0m\u001b[0m\n\u001b[0;32m----> 6\u001b[0;31m \u001b[0;32mimport\u001b[0m \u001b[0motter\u001b[0m\u001b[0;34m\u001b[0m\u001b[0;34m\u001b[0m\u001b[0m\n\u001b[0m\u001b[1;32m      7\u001b[0m \u001b[0mgrader\u001b[0m \u001b[0;34m=\u001b[0m \u001b[0motter\u001b[0m\u001b[0;34m.\u001b[0m\u001b[0mNotebook\u001b[0m\u001b[0;34m(\u001b[0m\u001b[0;34m)\u001b[0m\u001b[0;34m\u001b[0m\u001b[0;34m\u001b[0m\u001b[0m\n",
            "\u001b[0;31mModuleNotFoundError\u001b[0m: No module named 'otter'",
            "",
            "\u001b[0;31m---------------------------------------------------------------------------\u001b[0;32m\nNOTE: If your import is failing due to a missing package, you can\nmanually install dependencies using either !pip or !apt.\n\nTo view examples of installing some common dependencies, click the\n\"Open Examples\" button below.\n\u001b[0;31m---------------------------------------------------------------------------\u001b[0m\n"
          ],
          "errorDetails": {
            "actions": [
              {
                "action": "open_url",
                "actionText": "Open Examples",
                "url": "/notebooks/snippets/importing_libraries.ipynb"
              }
            ]
          }
        }
      ],
      "source": [
        "import csv\n",
        "import json\n",
        "import xml.dom.minidom as xml\n",
        "import requests\n",
        "\n",
        "import otter\n",
        "grader = otter.Notebook()"
      ]
    },
    {
      "cell_type": "markdown",
      "metadata": {
        "tags": [],
        "id": "ylVReI0PSy5d"
      },
      "source": [
        "# <mark style=\"background: #801010; color: #ffffff;\" >C</mark> Week 1: Working with Structured Data\n",
        "\n",
        "------\n",
        "\n",
        "### Instructions:\n",
        "\n",
        "- Complete 50 points worth of questions to pass the assessment\n",
        "- You can attempt any number of questions and in any order provided you pass at least 50 points.\n",
        "- These questions should be attempted directly in this notebook.\n",
        "- Be sure to check your work before submitting.\n",
        "- Do not remove any provided markings from the answer spaces.\n",
        "- Do not make any changes to this notebook outside of the answer spaces provided.\n",
        "- Supporting files references in this practical are available to download from MyUni. Please check the assignment page for a zipfile containing the CSV and JSON files.\n",
        "  \n",
        "#### Submitting\n",
        "\n",
        "- Reset your outputs before submitting\n",
        "- Select the `Kernel` menu, then either `Restart & Run Clear Output` or `Restart & Run All`\n",
        "- Don't forget to save your notebook after this step\n",
        "- Submit your .ipynb file to Gradescope using Git & GitHub\n",
        "- You can submit as many times as needed\n",
        "- When reviewing results, ignore any results listed under \"Public Tests\"  \n",
        "  (There are no \"Public Tests\" in this assignment)\n",
        "\n",
        "For more information, see the assessment page."
      ]
    },
    {
      "cell_type": "markdown",
      "metadata": {
        "id": "dRgVOIIPSy5e"
      },
      "source": [
        "#### Question 01 &nbsp;&nbsp;&nbsp;&nbsp;&nbsp;&nbsp;(5 Points)\n",
        "\n",
        "In the file `username.csv`, find the header row (the first line of the file) and assign the list of column names to the variable `header`.\n",
        "\n",
        "\n",
        "---\n",
        "<details>\n",
        "  <summary><span style=\"color:blue\">Hints for viewing data</span></summary>\n",
        "   Jupyter Notebook provides a good facility to view some types of data such as CSV. It can be a better alternative to Microsoft Excel or Google Sheets to provide a lightweight overview of data and allows a delimiter to be set when opening files.\n",
        "</details>"
      ]
    },
    {
      "cell_type": "code",
      "source": [
        "from google.colab import drive\n",
        "drive.mount('/content/drive/')"
      ],
      "metadata": {
        "id": "KJSqrCCTjOb4"
      },
      "execution_count": null,
      "outputs": []
    },
    {
      "cell_type": "code",
      "execution_count": 54,
      "metadata": {
        "tags": [],
        "colab": {
          "base_uri": "https://localhost:8080/"
        },
        "id": "dJcqvryeSy5e",
        "outputId": "071f8bb4-2e7c-441d-9ef8-bd2700aa1028"
      },
      "outputs": [
        {
          "output_type": "stream",
          "name": "stdout",
          "text": [
            "['Username', 'Identifier', 'First name', 'Last name']\n"
          ]
        }
      ],
      "source": [
        "header = []\n",
        "with open('drive/My Drive/Colab Notebooks/C/username.csv', 'r') as file1:\n",
        "  reader = csv.reader(file1)\n",
        "  header = list(reader)[0]\n",
        "  print(header)"
      ]
    },
    {
      "cell_type": "markdown",
      "metadata": {
        "id": "EV1XcHIfSy5e"
      },
      "source": [
        "#### Question 02 &nbsp;&nbsp;&nbsp;&nbsp;&nbsp;&nbsp;(5 Points)\n",
        "\n",
        "Open the file `username.csv` and remove the 'Identifier' column of data. Assign the remaining three columns to the variable `no_id_data` like:\n",
        "```python\n",
        "[['Username', 'First name', 'Last name'],\n",
        " ['booker12', 'Rachel', 'Booker'],\n",
        " ...\n",
        "```"
      ]
    },
    {
      "cell_type": "code",
      "execution_count": 33,
      "metadata": {
        "tags": [],
        "colab": {
          "base_uri": "https://localhost:8080/"
        },
        "id": "1YDvZtZ2Sy5f",
        "outputId": "48f4f3ae-f87b-4c35-b3c8-80eea807252c"
      },
      "outputs": [
        {
          "output_type": "stream",
          "name": "stdout",
          "text": [
            "[['Username', 'First name', 'Last name'], ['booker12', 'Rachel', 'Booker'], ['grey07', 'Laura', 'Grey'], ['johnson81', 'Craig', 'Johnson'], ['jenkins46', 'Mary', 'Jenkins'], ['smith79', 'Jamie', 'Smith']]\n"
          ]
        }
      ],
      "source": [
        "with open('drive/My Drive/Colab Notebooks/C/username.csv', 'r') as file1:\n",
        "  reader = csv.reader(file1)\n",
        "  with open(\"drive/My Drive/Colab Notebooks/C/output.csv\", \"w\") as result:\n",
        "    writer = csv.writer(result)\n",
        "    for r in reader:\n",
        "      writer.writerow((r[0], r[2], r[3]))\n",
        "\n",
        "with open(\"drive/My Drive/Colab Notebooks/C/output.csv\", \"r\") as result:\n",
        "  reader = csv.reader(result)\n",
        "  no_id_data = list(reader)\n",
        "\n",
        "print(no_id_data)"
      ]
    },
    {
      "cell_type": "markdown",
      "metadata": {
        "id": "pSZzKoV7Sy5f"
      },
      "source": [
        "#### Question 03 &nbsp;&nbsp;&nbsp;&nbsp;&nbsp;&nbsp;(5 Points)\n",
        "\n",
        "Open the file `email-password-recovery-code.csv` and remove all rows where the user is located in London. Save the result to the file `email-password-manchester-only.csv`."
      ]
    },
    {
      "cell_type": "code",
      "execution_count": 29,
      "metadata": {
        "tags": [],
        "id": "IrpO8hmYSy5f"
      },
      "outputs": [],
      "source": [
        "with open('drive/My Drive/Colab Notebooks/C/email-password-recovery-code.csv', 'r') as file3:\n",
        "  reader = csv.reader(file3)\n",
        "  with open(\"drive/My Drive/Colab Notebooks/C/email-password-manchester-only.csv\", \"w\") as result:\n",
        "    writer = csv.writer(result)\n",
        "    for r in reader:\n",
        "      if r[7] != \"London\":\n",
        "        writer.writerow(r)\n"
      ]
    },
    {
      "cell_type": "markdown",
      "metadata": {
        "id": "hj1uqcv1Sy5g"
      },
      "source": [
        "#### Question 04 &nbsp;&nbsp;&nbsp;&nbsp;&nbsp;&nbsp;(5 Points)\n",
        "\n",
        "The file `weather.csv` has iso-8859-1 encoding. Open this file while ensuring the correct encoding is specified. Find the highest maximum temperature and the lowest minimum temperature and assign them to the tuple `extremes` like `(max, min)`."
      ]
    },
    {
      "cell_type": "code",
      "execution_count": 47,
      "metadata": {
        "tags": [],
        "colab": {
          "base_uri": "https://localhost:8080/"
        },
        "id": "We1sbiRxSy5g",
        "outputId": "669a20c7-67a7-4327-937d-483df01384a6"
      },
      "outputs": [
        {
          "output_type": "stream",
          "name": "stdout",
          "text": [
            "('40.3', '11.7')\n"
          ]
        }
      ],
      "source": [
        "with open('drive/My Drive/Colab Notebooks/C/weather.csv', 'r', encoding=\"iso-8859-1\") as file4:\n",
        "  reader = csv.reader(file4)\n",
        "  lmax = []\n",
        "  lmin = []\n",
        "  for r in reader:\n",
        "    lmax.append(r[2])\n",
        "    lmin.append(r[1])\n",
        "lmax = lmax[1:]\n",
        "lmin = lmin[1:]\n",
        "extremes = (max(lmax), min(lmin))\n",
        "print(extremes)"
      ]
    },
    {
      "cell_type": "markdown",
      "metadata": {
        "id": "GBJMtRnoSy5g"
      },
      "source": [
        "#### Question 05 &nbsp;&nbsp;&nbsp;&nbsp;&nbsp;&nbsp;(5 Points)\n",
        "\n",
        "Open the same file `weather.csv` and remove the header line (which contains the problematic character for the degree symbol encoded as iso-8859-1. Write the rest of the file data to a new file called `weather-utf-8.csv` with `utf-8` encoding.\n",
        "\n",
        "---\n",
        "<details>\n",
        "  <summary><span style=\"color:blue\">Opening two files at a time</span></summary>\n",
        "   One solution to the problem is to open two files in the same with-as context manager like:<br /><br />\n",
        "    <pre>\n",
        "    with open(\"in.csv\", \"r\") as infile, open(\"out.csv\", \"w\") as outfile:\n",
        "        reader = csv.reader(infile)\n",
        "        writer = csv.writer(outfile)\n",
        "    </pre>\n",
        "    Then as you iterate through the input file, you can simultaneously be writing to the output file.\n",
        "</details>"
      ]
    },
    {
      "cell_type": "code",
      "execution_count": 61,
      "metadata": {
        "tags": [],
        "colab": {
          "base_uri": "https://localhost:8080/"
        },
        "id": "wXY6JaUnSy5g",
        "outputId": "07907c65-01d6-4eb1-9b22-f0eece78fb3c"
      },
      "outputs": [
        {
          "output_type": "stream",
          "name": "stdout",
          "text": [
            "['31/1/22', '18.7', '35.2', '0', 'WSW', '31', '15:02']\n"
          ]
        }
      ],
      "source": [
        "nheader = []\n",
        "with open('drive/My Drive/Colab Notebooks/C/weather.csv', 'r',encoding=\"iso-8859-1\") as file5, open('drive/My Drive/Colab Notebooks/C/weather-utf-8.csv', 'w', encoding=\"utf-8-sig\") as file5out:\n",
        "  reader = csv.reader(file5)\n",
        "  writer = csv.writer(file5out)\n",
        "  for r in reader:\n",
        "    nheader += r\n",
        "  writer.writerows(nheader[1:])"
      ]
    },
    {
      "cell_type": "markdown",
      "metadata": {
        "tags": [],
        "id": "KIofVjB3Sy5h"
      },
      "source": [
        "#### Question 06 &nbsp;&nbsp;&nbsp;&nbsp;&nbsp;&nbsp;(5 Points)\n",
        "\n",
        "Create your own CSV file `random-dice.csv` with five columns and a header as follows:\n",
        "```python\n",
        "   'Roll #', 'D1', 'D2', 'D3', '3D6'\n",
        "```\n",
        "The first column shall be a counter from 1 to 10. Column 1 through 3 will contain random numbers between 1 and 6 generated to simulate the rolling of three six sided dice. The final column will contain the sum of the three dice in the range 3 .. 18. There shall be 100 rows of dice data.\n",
        "\n",
        "Thus, the seventh row of data might look like:\n",
        "```python\n",
        "   7,3,3,4,10\n",
        "```    "
      ]
    },
    {
      "cell_type": "code",
      "execution_count": null,
      "metadata": {
        "tags": [],
        "id": "0fPd_oI6Sy5h"
      },
      "outputs": [],
      "source": [
        "import random\n"
      ]
    },
    {
      "cell_type": "markdown",
      "metadata": {
        "id": "t5zQjRgtSy5h"
      },
      "source": [
        "#### Question 07 &nbsp;&nbsp;&nbsp;&nbsp;&nbsp;&nbsp;(5 Points)\n",
        "\n",
        "Various characters are used to delimit CSV-style files such as colons, semicolons and tabs in addition to commas. Open the file `semi-delimited.csv` delimited with semicolons (\";\") and rewrite the file to `tab-delimited.csv` setting the delimiter to the tab character. "
      ]
    },
    {
      "cell_type": "code",
      "execution_count": null,
      "metadata": {
        "tags": [],
        "id": "bp_r2qaCSy5h"
      },
      "outputs": [],
      "source": [
        "# Write your solution here\n"
      ]
    },
    {
      "cell_type": "markdown",
      "metadata": {
        "id": "cvqirgXwSy5h"
      },
      "source": [
        "#### Question 08 &nbsp;&nbsp;&nbsp;&nbsp;&nbsp;&nbsp;(5 Points)\n",
        "\n",
        "Another approach to dealing with CSV files in Python is to use `DictReader` to form an *ordered dictionary* with keys based on the header. Use DictReader to open the file `username.csv` and assign the first row of data as a dictionary to the variable `dict_row_first` and the last row of data to the variable `dict_row_last`."
      ]
    },
    {
      "cell_type": "code",
      "execution_count": null,
      "metadata": {
        "tags": [],
        "id": "6dk-VI8SSy5h"
      },
      "outputs": [],
      "source": [
        "# Write your solution here\n"
      ]
    },
    {
      "cell_type": "markdown",
      "metadata": {
        "id": "_uLJzzYJSy5h"
      },
      "source": [
        "#### Question 09 &nbsp;&nbsp;&nbsp;&nbsp;&nbsp;&nbsp;(10 Points)\n",
        "\n",
        "Provided with three dictionaries for employee data (below), write a CSV file `employee.csv` that captures the three employee records and include a header row at the beginning of the file. "
      ]
    },
    {
      "cell_type": "code",
      "execution_count": 69,
      "metadata": {
        "tags": [],
        "id": "VpILztpPSy5h"
      },
      "outputs": [],
      "source": [
        "employee_data_1 = {\n",
        "\"Name\": \"Graham Chapman\",\n",
        "\"Hire Date\": \"03/15/14\",\n",
        "\"Salary\": 50000,\n",
        "\"Sick Days\": 10}\n",
        "\n",
        "employee_data_2 = {\n",
        "\"Name\": \"John Cleese\",\n",
        "\"Hire Date\": \"06/01/14\",\n",
        "\"Salary\": 55000,\n",
        "\"Sick Days\": 11}\n",
        "\n",
        "employee_data_3 = {\n",
        "\"Name\": \"Eric Idle\",\n",
        "\"Hire Date\": \"not employed\",\n",
        "\"Salary\": 0,\n",
        "\"Sick Days\": 0}\n",
        "\n",
        "\n",
        "with open(\"drive/My Drive/Colab Notebooks/C/employee.csv\",\"w\") as file9:\n",
        "  dwriter = csv.DictWriter(file9, employee_data_1.keys())\n",
        "  headers = {}\n",
        "  for n in dwriter.fieldnames:\n",
        "      headers[n] = n\n",
        "  dwriter.writerow(headers)\n",
        "  for d in [employee_data_1,employee_data_2,employee_data_3]:\n",
        "    dwriter.writerow(d)"
      ]
    },
    {
      "cell_type": "markdown",
      "metadata": {
        "id": "KzIOjx-6Sy5h"
      },
      "source": [
        "#### Question 10 &nbsp;&nbsp;&nbsp;&nbsp;&nbsp;&nbsp;(5 Points)\n",
        "\n",
        "Given the dictionary `DATASET` below, write this to a JSON formatted file called `nap.json`."
      ]
    },
    {
      "cell_type": "code",
      "execution_count": 71,
      "metadata": {
        "tags": [],
        "id": "SbtK-AOQSy5i"
      },
      "outputs": [],
      "source": [
        "DATASET = [\n",
        "    {'name': \"John\", 'age': 52, 'postcode': 5002},  \n",
        "    {'name':\"Ye\", 'age': 18, 'postcode': 3005},  \n",
        "    {'name':\"Siobhan\", 'age': 34, 'postcode': 2356}\n",
        "]\n",
        "\n",
        "with open('drive/My Drive/Colab Notebooks/C/nap.json','w') as file10:\n",
        "    json.dump(DATASET,file10)\n"
      ]
    },
    {
      "cell_type": "markdown",
      "metadata": {
        "id": "Vs0XTftnSy5i"
      },
      "source": [
        "#### Question 11 &nbsp;&nbsp;&nbsp;&nbsp;&nbsp;&nbsp;(5 Points)\n",
        "\n",
        "The `MENU_DEF` dictionary represents multi-lingual labels for a menu in a file system application. Save this data to a JSON file `menu.json` in `utf-16` encoding."
      ]
    },
    {
      "cell_type": "code",
      "execution_count": 74,
      "metadata": {
        "tags": [],
        "id": "6EITrJEvSy5i"
      },
      "outputs": [],
      "source": [
        "MENU_DEF = {'menu': {'id': 'file',\n",
        "          'popups': [{'language': 'English',\n",
        "                      'menuitem': [{'onclick': 'CreateNewDoc()',\n",
        "                                    'value': 'New'},\n",
        "                                   {'onclick': 'OpenDoc()', 'value': 'Open'},\n",
        "                                   {'onclick': 'CloseDoc()',\n",
        "                                    'value': 'Close'}]},\n",
        "                     {'language': 'Deutsch',\n",
        "                      'menuitem': [{'onclick': 'CreateNewDoc()',\n",
        "                                    'value': 'Neu'},\n",
        "                                   {'onclick': 'OpenDoc()', 'value': 'Offen'},\n",
        "                                   {'onclick': 'CloseDoc()',\n",
        "                                    'value': 'Schließen'}]}]}}\n",
        "\n",
        "with open('drive/My Drive/Colab Notebooks/C/menu.json','w',encoding=\"utf-16\") as file11:\n",
        "    json.dump(MENU_DEF,file11)\n"
      ]
    },
    {
      "cell_type": "code",
      "source": [],
      "metadata": {
        "id": "Vxw9CO6hoCUs"
      },
      "execution_count": null,
      "outputs": []
    },
    {
      "cell_type": "markdown",
      "metadata": {
        "id": "qjw8qJPKSy5i"
      },
      "source": [
        "#### Question 12 &nbsp;&nbsp;&nbsp;&nbsp;&nbsp;&nbsp;(10 Points)\n",
        "\n",
        "You are provided with the JSON file `glossary.json`. Deserialise the file and navigate the created representation of the JSON file to find the value of the name:value pair with key `\"GlossSeeAlso\"`. Assign this list to the Python variable `see_also_list`.\n",
        "\n",
        "For example, to find the value for the key `\"GlossDiv\"` it would be necessary to open the file, deserialise it to a Python object (say `glossary`) and then navigate the mix of dictionaries and lists to find:\n",
        "\n",
        "```python\n",
        "    # deserialise to 'glossary'\n",
        "    div = glossary['glossary']['GlossDiv']\n",
        "    print (div)\n",
        "    ...\n",
        "    {'GlossList': {'GlossEntry': {'Abbrev': 'ISO 8879:1986',\n",
        "                              'Acronym': 'SGML',\n",
        "                               ...   \n",
        "```      \n",
        "\n",
        "In this case we are accessing the nested dictionaries using `glossary['glossary']['GlossDiv']`.\n",
        "\n",
        "---\n",
        "<details>\n",
        "  <summary><span style=\"color:blue\">Navigating a JSON representation</span></summary>\n",
        "    After deserialisation, we know that Python's representation of a JSON file is a mix of dictionaries and lists. Once you deserialise a file, it is often helpful to print or pretty print (from the library <code>pprint</code>) the variable and compare the name:value pairs with the original file. Alternately, open the JSON file in Jupyter Notebook - this does a great job of allowing traversal of nested dictionaries that are the hallmark of complex JSON representations.\n",
        "</details>"
      ]
    },
    {
      "cell_type": "code",
      "execution_count": 93,
      "metadata": {
        "tags": [],
        "colab": {
          "base_uri": "https://localhost:8080/"
        },
        "id": "r_XvmssESy5i",
        "outputId": "b87fa51f-beb5-478f-a35f-2a6edb167541"
      },
      "outputs": [
        {
          "output_type": "stream",
          "name": "stdout",
          "text": [
            "{'glossary': {'GlossDiv': {'GlossList': {'GlossEntry': {'Abbrev': 'ISO '\n",
            "                                                                  '8879:1986',\n",
            "                                                        'Acronym': 'SGML',\n",
            "                                                        'GlossDef': {'GlossSeeAlso': ['GML',\n",
            "                                                                                      'XML'],\n",
            "                                                                     'para': 'A '\n",
            "                                                                             'meta-markup '\n",
            "                                                                             'language, '\n",
            "                                                                             'used '\n",
            "                                                                             'to '\n",
            "                                                                             'create '\n",
            "                                                                             'markup '\n",
            "                                                                             'languages '\n",
            "                                                                             'such '\n",
            "                                                                             'as '\n",
            "                                                                             'DocBook.'},\n",
            "                                                        'GlossSee': 'markup',\n",
            "                                                        'GlossTerm': 'Standard '\n",
            "                                                                     'Generalized '\n",
            "                                                                     'Markup '\n",
            "                                                                     'Language',\n",
            "                                                        'ID': 'SGML',\n",
            "                                                        'SortAs': 'SGML'}},\n",
            "                           'title': 'S'},\n",
            "              'title': 'example glossary'}}\n",
            "{'GlossDiv': {'GlossList': {'GlossEntry': {'Abbrev': 'ISO 8879:1986',\n",
            "                                           'Acronym': 'SGML',\n",
            "                                           'GlossDef': {'GlossSeeAlso': ['GML',\n",
            "                                                                         'XML'],\n",
            "                                                        'para': 'A meta-markup '\n",
            "                                                                'language, '\n",
            "                                                                'used to '\n",
            "                                                                'create markup '\n",
            "                                                                'languages '\n",
            "                                                                'such as '\n",
            "                                                                'DocBook.'},\n",
            "                                           'GlossSee': 'markup',\n",
            "                                           'GlossTerm': 'Standard Generalized '\n",
            "                                                        'Markup Language',\n",
            "                                           'ID': 'SGML',\n",
            "                                           'SortAs': 'SGML'}},\n",
            "              'title': 'S'},\n",
            " 'title': 'example glossary'}\n",
            "{'GlossList': {'GlossEntry': {'Abbrev': 'ISO 8879:1986',\n",
            "                              'Acronym': 'SGML',\n",
            "                              'GlossDef': {'GlossSeeAlso': ['GML', 'XML'],\n",
            "                                           'para': 'A meta-markup language, '\n",
            "                                                   'used to create markup '\n",
            "                                                   'languages such as '\n",
            "                                                   'DocBook.'},\n",
            "                              'GlossSee': 'markup',\n",
            "                              'GlossTerm': 'Standard Generalized Markup '\n",
            "                                           'Language',\n",
            "                              'ID': 'SGML',\n",
            "                              'SortAs': 'SGML'}},\n",
            " 'title': 'S'}\n",
            "{'GlossEntry': {'Abbrev': 'ISO 8879:1986',\n",
            "                'Acronym': 'SGML',\n",
            "                'GlossDef': {'GlossSeeAlso': ['GML', 'XML'],\n",
            "                             'para': 'A meta-markup language, used to create '\n",
            "                                     'markup languages such as DocBook.'},\n",
            "                'GlossSee': 'markup',\n",
            "                'GlossTerm': 'Standard Generalized Markup Language',\n",
            "                'ID': 'SGML',\n",
            "                'SortAs': 'SGML'}}\n",
            "{'Abbrev': 'ISO 8879:1986',\n",
            " 'Acronym': 'SGML',\n",
            " 'GlossDef': {'GlossSeeAlso': ['GML', 'XML'],\n",
            "              'para': 'A meta-markup language, used to create markup languages '\n",
            "                      'such as DocBook.'},\n",
            " 'GlossSee': 'markup',\n",
            " 'GlossTerm': 'Standard Generalized Markup Language',\n",
            " 'ID': 'SGML',\n",
            " 'SortAs': 'SGML'}\n",
            "{'GlossSeeAlso': ['GML', 'XML'],\n",
            " 'para': 'A meta-markup language, used to create markup languages such as '\n",
            "         'DocBook.'}\n",
            "['GML', 'XML']\n"
          ]
        }
      ],
      "source": [
        "import pprint as pp\n",
        "with open('drive/My Drive/Colab Notebooks/C/glossary.json', encoding='utf-8-sig') as file12:\n",
        "    jstr = file12.read()\n",
        "    jdata = json.loads(jstr)\n",
        "    pp.pprint(jdata)\n",
        "    jdata = jdata['glossary']\n",
        "    pp.pprint(jdata)\n",
        "    jdata = jdata['GlossDiv']\n",
        "    pp.pprint(jdata)\n",
        "    jdata = jdata['GlossList']\n",
        "    pp.pprint(jdata)\n",
        "    jdata = jdata['GlossEntry']\n",
        "    pp.pprint(jdata)\n",
        "    jdata = jdata['GlossDef']\n",
        "    pp.pprint(jdata)\n",
        "    see_also_list = jdata['GlossSeeAlso']\n",
        "    print(see_also_list)"
      ]
    },
    {
      "cell_type": "markdown",
      "metadata": {
        "id": "Q1uh8nXwSy5i"
      },
      "source": [
        "#### Question 13 &nbsp;&nbsp;&nbsp;&nbsp;&nbsp;&nbsp;(10 Points)\n",
        "\n",
        "Let's append 'JSON' to the \"See also\" entry of the glossary item on SGML. In the list identified by the key/name `GlossSeeAlso`, append `'JSON'` to the list of `['GML', 'XML']` and write the amended glossary to the file `json-glossary.json`."
      ]
    },
    {
      "cell_type": "code",
      "execution_count": null,
      "metadata": {
        "tags": [],
        "id": "81epPBqHSy5i"
      },
      "outputs": [],
      "source": [
        "# Write your solution here\n"
      ]
    },
    {
      "cell_type": "markdown",
      "metadata": {
        "id": "XLZv1aR7Sy5i"
      },
      "source": [
        "#### Question 14 &nbsp;&nbsp;&nbsp;&nbsp;&nbsp;&nbsp;(5 Points)\n",
        "\n",
        "Given the string of JSON data in the cell below, convert this into a Python representation and add a new person's details as:\n",
        "  - **name**: Menasha, \n",
        "  - **age**: 21 and \n",
        "  - **postcode**: 5000.  \n",
        " \n",
        "You should now have a Python list with four elements all having identical dictionary keys. Serialise your list to a new file `json-string.json`. "
      ]
    },
    {
      "cell_type": "code",
      "execution_count": null,
      "metadata": {
        "tags": [],
        "id": "Z4Ny_umNSy5i"
      },
      "outputs": [],
      "source": [
        "JSON_STRING = '''[ {\"name\": \"Ali\",   \"age\": 52, \"postcode\": 5002},\n",
        "                   {\"name\": \"Ye\",    \"age\": 18, \"postcode\": 3005},\n",
        "                   {\"name\": \"Matty\", \"age\": 97, \"postcode\": 6061}\n",
        "              ]'''\n",
        "\n",
        "# Write your solution here\n"
      ]
    },
    {
      "cell_type": "markdown",
      "metadata": {
        "id": "P6stPmiPSy5i"
      },
      "source": [
        "#### Question 15 &nbsp;&nbsp;&nbsp;&nbsp;&nbsp;&nbsp;(5 Points)\n",
        "\n",
        "Write a Python program to create a JSON file `encode-decode.json` that stores a list of the following Python values:\n",
        "\n",
        "- None\n",
        "- True\n",
        "- False\n",
        "- an empty list\n",
        "- an empty string\n",
        "- an empty dict\n",
        "- integer 0\n",
        "- float 1.0\n",
        "\n",
        "Open the file in a text editor and observe the transcoding between Python values and their representation in JSON - in particular the handling of essentially empty objects."
      ]
    },
    {
      "cell_type": "code",
      "execution_count": null,
      "metadata": {
        "tags": [],
        "id": "EckCT0QZSy5i"
      },
      "outputs": [],
      "source": [
        "# Write your solution here\n"
      ]
    },
    {
      "cell_type": "markdown",
      "metadata": {
        "id": "DRjDhx3wSy5i"
      },
      "source": [
        "#### Question 16 &nbsp;&nbsp;&nbsp;&nbsp;&nbsp;&nbsp;(10 Points)\n",
        "\n",
        "We can get a string of JSON text from a website or API using the `request` library. The function call to invoke a request is as follows:\n",
        "```python\n",
        "import requests\n",
        "web_request = requests.get(<some url>)\n",
        "json_string = response.text\n",
        "```\n",
        "We can then convert the JSON string into a Python object using `json.loads()` as we already know.\n",
        "\n",
        "Write a program that makes a web request to the URL:  \n",
        "&nbsp;&nbsp;&nbsp;&nbsp;   https://jsonplaceholder.typicode.com/todos <br />\n",
        "for a JSON string. Observe that this is a list of \"todo list\" items. \n",
        "\n",
        "Once you have this list of items (Python dictionaries), set the 'completed' status for each todo list item to 'False' and save to the file `todo-list.json`."
      ]
    },
    {
      "cell_type": "code",
      "execution_count": null,
      "metadata": {
        "tags": [],
        "id": "Z7t7GhfjSy5i"
      },
      "outputs": [],
      "source": [
        "# Write your solution here\n"
      ]
    }
  ],
  "metadata": {
    "kernelspec": {
      "display_name": "Python 3 (ipykernel)",
      "language": "python",
      "name": "python3"
    },
    "language_info": {
      "codemirror_mode": {
        "name": "ipython",
        "version": 3
      },
      "file_extension": ".py",
      "mimetype": "text/x-python",
      "name": "python",
      "nbconvert_exporter": "python",
      "pygments_lexer": "ipython3",
      "version": "3.9.12"
    },
    "otter": {
      "tests": {
        "Question 01": {
          "name": "Question 01",
          "points": 5,
          "suites": [
            {
              "cases": [],
              "scored": true,
              "setup": "",
              "teardown": "",
              "type": "doctest"
            }
          ]
        },
        "Question 02": {
          "name": "Question 02",
          "points": 5,
          "suites": [
            {
              "cases": [],
              "scored": true,
              "setup": "",
              "teardown": "",
              "type": "doctest"
            }
          ]
        },
        "Question 03": {
          "name": "Question 03",
          "points": 5,
          "suites": [
            {
              "cases": [],
              "scored": true,
              "setup": "",
              "teardown": "",
              "type": "doctest"
            }
          ]
        },
        "Question 04": {
          "name": "Question 04",
          "points": 5,
          "suites": [
            {
              "cases": [],
              "scored": true,
              "setup": "",
              "teardown": "",
              "type": "doctest"
            }
          ]
        },
        "Question 05": {
          "name": "Question 05",
          "points": 5,
          "suites": [
            {
              "cases": [],
              "scored": true,
              "setup": "",
              "teardown": "",
              "type": "doctest"
            }
          ]
        },
        "Question 06": {
          "name": "Question 06",
          "points": 5,
          "suites": [
            {
              "cases": [],
              "scored": true,
              "setup": "",
              "teardown": "",
              "type": "doctest"
            }
          ]
        },
        "Question 07": {
          "name": "Question 07",
          "points": 5,
          "suites": [
            {
              "cases": [],
              "scored": true,
              "setup": "",
              "teardown": "",
              "type": "doctest"
            }
          ]
        },
        "Question 08": {
          "name": "Question 08",
          "points": 5,
          "suites": [
            {
              "cases": [],
              "scored": true,
              "setup": "",
              "teardown": "",
              "type": "doctest"
            }
          ]
        },
        "Question 09": {
          "name": "Question 09",
          "points": 10,
          "suites": [
            {
              "cases": [],
              "scored": true,
              "setup": "",
              "teardown": "",
              "type": "doctest"
            }
          ]
        },
        "Question 10": {
          "name": "Question 10",
          "points": 5,
          "suites": [
            {
              "cases": [],
              "scored": true,
              "setup": "",
              "teardown": "",
              "type": "doctest"
            }
          ]
        },
        "Question 11": {
          "name": "Question 11",
          "points": 5,
          "suites": [
            {
              "cases": [],
              "scored": true,
              "setup": "",
              "teardown": "",
              "type": "doctest"
            }
          ]
        },
        "Question 12": {
          "name": "Question 12",
          "points": 10,
          "suites": [
            {
              "cases": [],
              "scored": true,
              "setup": "",
              "teardown": "",
              "type": "doctest"
            }
          ]
        },
        "Question 13": {
          "name": "Question 13",
          "points": 10,
          "suites": [
            {
              "cases": [],
              "scored": true,
              "setup": "",
              "teardown": "",
              "type": "doctest"
            }
          ]
        },
        "Question 14": {
          "name": "Question 14",
          "points": 5,
          "suites": [
            {
              "cases": [],
              "scored": true,
              "setup": "",
              "teardown": "",
              "type": "doctest"
            }
          ]
        },
        "Question 15": {
          "name": "Question 15",
          "points": 5,
          "suites": [
            {
              "cases": [],
              "scored": true,
              "setup": "",
              "teardown": "",
              "type": "doctest"
            }
          ]
        },
        "Question 16": {
          "name": "Question 16",
          "points": 10,
          "suites": [
            {
              "cases": [],
              "scored": true,
              "setup": "",
              "teardown": "",
              "type": "doctest"
            }
          ]
        }
      }
    },
    "varInspector": {
      "cols": {
        "lenName": 16,
        "lenType": 16,
        "lenVar": 40
      },
      "kernels_config": {
        "python": {
          "delete_cmd_postfix": "",
          "delete_cmd_prefix": "del ",
          "library": "var_list.py",
          "varRefreshCmd": "print(var_dic_list())"
        },
        "r": {
          "delete_cmd_postfix": ") ",
          "delete_cmd_prefix": "rm(",
          "library": "var_list.r",
          "varRefreshCmd": "cat(var_dic_list()) "
        }
      },
      "types_to_exclude": [
        "module",
        "function",
        "builtin_function_or_method",
        "instance",
        "_Feature"
      ],
      "window_display": false
    },
    "colab": {
      "provenance": []
    }
  },
  "nbformat": 4,
  "nbformat_minor": 0
}